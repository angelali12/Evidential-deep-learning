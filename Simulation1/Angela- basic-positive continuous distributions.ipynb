{
 "cells": [
  {
   "cell_type": "code",
   "execution_count": 3,
   "metadata": {},
   "outputs": [],
   "source": [
    "import tensorflow as tf\n",
    "from tensorflow.keras.utils import to_categorical\n",
    "import tensorflow.contrib.eager as tfe\n",
    "from tensorflow.keras.regularizers import l2\n",
    "\n",
    "\n",
    "from functools import partial\n",
    "import pandas as pd\n",
    "import seaborn as sns\n",
    "import matplotlib.pyplot as plt\n",
    "\n",
    "from sklearn.decomposition import PCA\n",
    "from sklearn.manifold import TSNE\n",
    "import matplotlib.tri as tri\n",
    "from scipy import stats\n",
    "from scipy.special import gamma as gamma_fun\n",
    "import scipy.special as spec\n",
    "import matplotlib.pyplot as plt\n",
    "from tqdm import tqdm_notebook as tqdm\n",
    "import numpy as np\n",
    "\n",
    "np.set_printoptions(suppress=True)\n",
    "\n",
    "from deep_bayes.models import DeepEvidentialModel\n",
    "from deep_bayes.settings import EVIDENTIAL_DEFAULTS\n",
    "from deep_bayes.training import train_online\n",
    "from deep_bayes.losses import log_loss, cross_entropy\n",
    "from deep_bayes.viz import plot_model_samples, plot_confusion_matrix, plot_true_est_posterior\n",
    "from deep_bayes.diagnostics import accuracy, expected_calibration_error\n",
    "\n",
    "from sklearn import metrics## ignore warnings\n",
    "import warnings\n",
    "warnings.filterwarnings(\"ignore\")"
   ]
  },
  {
   "cell_type": "code",
   "execution_count": 5,
   "metadata": {
    "scrolled": true
   },
   "outputs": [
    {
     "data": {
      "text/plain": [
       "True"
      ]
     },
     "execution_count": 5,
     "metadata": {},
     "output_type": "execute_result"
    }
   ],
   "source": [
    "tf.enable_eager_execution()\n",
    "tf.compat.v1.enable_eager_execution\n",
    "tf.executing_eagerly()"
   ]
  },
  {
   "cell_type": "markdown",
   "metadata": {},
   "source": [
    "# Generative model specifications"
   ]
  },
  {
   "cell_type": "markdown",
   "metadata": {},
   "source": [
    "## Model prior \n",
    "<p>Defines the prior probabilities over models $p(\\boldsymbol{m})$.</p>"
   ]
  },
  {
   "cell_type": "code",
   "execution_count": 6,
   "metadata": {},
   "outputs": [],
   "source": [
    "def model_prior(batch_size, n_models, p_vals=None):\n",
    "    \"\"\"\n",
    "    Samples from the models' prior batch size times and converts to one-hot.\n",
    "    Assumes equal model priors.\n",
    "    ----------\n",
    "\n",
    "    Arguments:\n",
    "    batch_size : int  -- the number of samples to draw from the prior\n",
    "    n_models   : int  -- the number of generative models in question\n",
    "    ----------\n",
    "\n",
    "    Returns:\n",
    "    m_true : np.ndarray of shape (batch_size, theta_dim) -- the samples batch of parameters\n",
    "    \"\"\"\n",
    "\n",
    "    # Equal priors, if nothign specified\n",
    "    if p_vals is None:\n",
    "        p_vals = [1 / n_models] * n_models\n",
    "    m_idx = np.random.choice(n_models, size=batch_size, p=p_vals).astype(np.int32)\n",
    "    return m_idx"
   ]
  },
  {
   "cell_type": "markdown",
   "metadata": {},
   "source": [
    "## Model parameters priors\n",
    "<p>Defines how parameters are generated given a model $p(\\boldsymbol{\\theta}|\\boldsymbol{m})$.</p>"
   ]
  },
  {
   "cell_type": "code",
   "execution_count": 7,
   "metadata": {
    "code_folding": [
     17,
     34
    ]
   },
   "outputs": [],
   "source": [
    "def exponential_prior(**args):\n",
    "    \"\"\"\n",
    "    Samples from the prior of the first model.\n",
    "    ----------\n",
    "\n",
    "    Arguments:\n",
    "    ----------\n",
    "\n",
    "    Output:\n",
    "    theta : np.ndarray of shape (1, theta_dim) -- the samples of parameters\n",
    "    \"\"\"\n",
    "\n",
    "    theta = np.random.exponential(scale=1.)\n",
    "    return theta\n",
    "\n",
    "\n",
    "def lognormal_prior(**args):\n",
    "    \"\"\"\n",
    "    Samples from the prior of the second model.\n",
    "    ----------\n",
    "\n",
    "    Arguments:\n",
    "    ----------\n",
    "\n",
    "    Output:\n",
    "    theta : np.ndarray of shape (1, theta_dim) -- the samples of parameters\n",
    "    \"\"\"\n",
    "\n",
    "    # Just as a toy example, sample from 2-D Gaussian with mean 1\n",
    "    theta = np.random.normal(loc=0., scale=1.)\n",
    "    return theta\n",
    "\n",
    "\n",
    "def gamma_prior(**args):\n",
    "    \"\"\"\n",
    "    Samples from the prior of the third model.\n",
    "    ----------\n",
    "\n",
    "    Arguments:\n",
    "    ----------\n",
    "\n",
    "    Output:\n",
    "    theta : np.ndarray of shape (1, theta_dim) -- the samples of parameters\n",
    "    \"\"\"\n",
    "\n",
    "    # Just as a toy example, sample from 2-D unit Gaussian with mean 2\n",
    "    theta = np.random.exponential(scale=1.)\n",
    "    return theta\n",
    "\n",
    "\n",
    "def weibull_prior(**args):\n",
    "    \"\"\"\n",
    "    Samples from the prior of the fourth model.\n",
    "    ----------\n",
    "\n",
    "    Arguments:\n",
    "    ----------\n",
    "\n",
    "    Output:\n",
    "    theta : np.ndarray of shape (1, theta_dim) -- the samples of parameters\n",
    "    \"\"\"\n",
    "\n",
    "    theta = np.random.weibull(a=5)\n",
    "    return theta"
   ]
  },
  {
   "cell_type": "markdown",
   "metadata": {},
   "source": [
    "## Generative models\n",
    "<p>Defines how the data are generated, that is, $\\boldsymbol{x}_{1:N} \\sim p(\\boldsymbol{x}| \\boldsymbol{\\theta},\\boldsymbol{m}).$"
   ]
  },
  {
   "cell_type": "code",
   "execution_count": 8,
   "metadata": {},
   "outputs": [],
   "source": [
    "from scipy.special import gamma\n",
    "\n",
    "def marginal_lik_exponential(x):\n",
    "    \"\"\"\n",
    "    Computes the log marginal likelihood of a batch of samples under an exponential model.\n",
    "    ----------\n",
    "    \n",
    "    Arguments:\n",
    "    x - a 3D np.ndarray of shape N_batch x  \n",
    "    \"\"\"\n",
    "    \n",
    "    \n",
    "    n = x.shape[1]\n",
    "    xx = np.log(gamma(n + 1)) - (n+1)*np.log(1 + np.sum(x, axis=(1, 2)))\n",
    "    return xx\n",
    "\n",
    "\n",
    "def marginal_lik_lognormal(x):\n",
    "    \"\"\"\n",
    "    Computes the marginal likelihood of a batch of samples under a lognormal model.\n",
    "    ----------\n",
    "    \n",
    "    Arguments:\n",
    "    x - a 3D np.ndarray of shape N_batch x  \n",
    "    \"\"\"\n",
    "    \n",
    "    n = x.shape[1]\n",
    "    xx = -((np.sum(np.log(x), axis=(1, 2)))**2) / (2*n*(n+1))\n",
    "    xx -= (np.sum(np.log(x)**2, axis=(1, 2))**2) / 2\n",
    "    xx += (np.sum(np.log(x), axis=(1, 2))**2) / (2*n)\n",
    "    xx -= np.sum(np.log(x), axis=(1, 2))\n",
    "    xx -= n * 0.5 * np.log(2*np.pi)\n",
    "    xx -= 0.5 * np.log(n+1)\n",
    "    return xx\n",
    "\n",
    "def marginal_lik_gamma(x):\n",
    "    \"\"\"\n",
    "    Computes the marginal likelihood of a batch of samples under a gamma model.\n",
    "    ----------\n",
    "    \n",
    "    Arguments:\n",
    "    x - a 3D np.ndarray of shape N_batch x  \n",
    "    \"\"\"\n",
    "    \n",
    "    n = x.shape[1]\n",
    "    xx = np.sum(np.log(x), axis=(1, 2))\n",
    "    xx += np.log(gamma(2*n + 1))\n",
    "    xx -= n*np.log(gamma(2))\n",
    "    xx -= (2*n+1) * np.log(1 + np.sum(x, axis=(1, 2)))\n",
    "    return xx"
   ]
  },
  {
   "cell_type": "code",
   "execution_count": 12,
   "metadata": {},
   "outputs": [],
   "source": [
    "from scipy.special import gamma\n",
    "\n",
    "def exponential_model(scale, n_obs, **args):\n",
    "    \"\"\"\n",
    "    Runs the forward model once, i.e., generates a sample from p(x|theta, m).\n",
    "    ----------\n",
    "\n",
    "    Arguments:\n",
    "    params : np.ndarray of shape (theta_dim, ) -- the data generating parameters\n",
    "    n_obs  : int -- the numebr of observations to draw from p(x|theta)\n",
    "    ----------\n",
    "\n",
    "    Output:\n",
    "    x      : np.ndarray of shape (n_obs, x_dim)\n",
    "    \"\"\"\n",
    "\n",
    "    x = np.random.exponential(scale=scale, size=(n_obs, 1))\n",
    "    return x\n",
    "\n",
    "\n",
    "def lognormal_model(mean, n_obs, **args):\n",
    "    \"\"\"\n",
    "    Runs the forward model once, i.e., generates a sample from p(x|theta, m).\n",
    "    ----------\n",
    "\n",
    "    Arguments:\n",
    "    params : np.ndarray of shape (theta_dim, ) -- the data generating parameters\n",
    "    n_obs  : int -- the numebr of observations to draw from p(x|theta)\n",
    "    ----------\n",
    "\n",
    "    Output:\n",
    "    x      : np.ndarray of shape (n_obs, x_dim)\n",
    "    \"\"\"\n",
    "\n",
    "    x = np.random.lognormal(mean=mean, sigma=1., size=(n_obs, 1))\n",
    "    return x\n",
    "\n",
    "\n",
    "def gamma_model(scale, n_obs, **args):\n",
    "    \"\"\"\n",
    "    Runs the forward model once, i.e., generates a sample from p(x|theta, m).\n",
    "    ----------\n",
    "\n",
    "    Arguments:\n",
    "    params : np.ndarray of shape (theta_dim, ) -- the data generating parameters\n",
    "    n_obs  : int -- the numebr of observations to draw from p(x|theta)\n",
    "    ----------\n",
    "\n",
    "    Output:\n",
    "    x      : np.ndarray of shape (n_obs, x_dim)\n",
    "    \"\"\"\n",
    "\n",
    "    x = np.random.gamma(shape=2., scale=scale, size=(n_obs, 1))\n",
    "    return x\n",
    "\n",
    "\n",
    "def weibull_model(scale, n_obs, **args):\n",
    "    \"\"\"\n",
    "    Runs the forward model once, i.e., generates a sample from p(x|theta, m).\n",
    "    ----------\n",
    "\n",
    "    Arguments:\n",
    "    params : np.ndarray of shape (theta_dim, ) -- the data generating parameters\n",
    "    n_obs  : int -- the numebr of observations to draw from p(x|theta)\n",
    "    ----------\n",
    "\n",
    "    Output:\n",
    "    x      : np.ndarray of shape (n_obs, x_dim)\n",
    "    \"\"\"\n",
    "\n",
    "    x = np.random.weibull(a=5, size=(n_obs, 1))\n",
    "    return x"
   ]
  },
  {
   "cell_type": "markdown",
   "metadata": {},
   "source": [
    "## Data generator\n",
    "<p>Define the algorithm:</p>\n",
    "1. <strong>for</strong> $i = 1,...,B$<br>\n",
    "2. &emsp;$\\boldsymbol{m}^{(i)} \\sim p(\\boldsymbol{m})$<br>\n",
    "3. &emsp;$\\boldsymbol{\\theta}^{(i)} \\sim p(\\boldsymbol{\\theta}|\\boldsymbol{m}^{(i)})$<br>\n",
    "4. &emsp;$\\boldsymbol{x}_{1:N}^{(i)} \\sim p(\\boldsymbol{x}|\\boldsymbol{\\theta}^{(i)},\\boldsymbol{m}^{(i)})$"
   ]
  },
  {
   "cell_type": "code",
   "execution_count": 9,
   "metadata": {},
   "outputs": [],
   "source": [
    "def data_generator(batch_size, model_prior, param_priors, forward_models, alpha_smooth=None,\n",
    "                   n_obs=None, n_obs_min=100, n_obs_max=500, to_tensor=True, **args):\n",
    "    \"\"\"\n",
    "    Runs the forward model 'batch_size' times by first sampling fromt the prior\n",
    "    theta ~ p(theta) and running x ~ p(x|theta).\n",
    "    ----------\n",
    "\n",
    "    Arguments:\n",
    "    batch_size     : int -- the number of samples to draw from the prior\n",
    "    model_prior    : callable -- the prior which returns a sample of model indices\n",
    "    param_priors   : list of callables -- a list with model prior samplers\n",
    "    forward_models : list of generative models g(theta) -- a list of generatibve models\n",
    "    alpha_smooth   : float or None -- the label smoothing hyperparameter\n",
    "    n_obs          : int -- the numebr of observations to draw from p(x|theta)\n",
    "    n_obs_min      : int -- used when n_obs is None, draws n_obs ~ U(n_obs_min, n_obs_max)\n",
    "    n_obs_max      : int -- used when n_obs is None, draws n_obs ~ U(n_obs_min, n_obs_max)\n",
    "    to_tensor      : boolean -- converts theta and x to tensors if True\n",
    "    ----------\n",
    "\n",
    "    Output:\n",
    "    m     : tf.Tensor or np.ndarray of shape (batch_size, n_models) - the one-hot encoded version of the models\n",
    "    theta : tf.Tensor or np.ndarray of shape (batch_size, theta_dim) - the data gen parameters\n",
    "    x     : tf.Tensor of np.ndarray of shape (batch_size, n_obs, x_dim)  - the generated data\n",
    "    \"\"\"\n",
    "\n",
    "    # Sample from model prior\n",
    "    # m_indices is an np.int32 array of model indices\n",
    "    n_models = len(forward_models)\n",
    "    m_indices = model_prior(batch_size, n_models)\n",
    "\n",
    "    # Sample N, if not specified\n",
    "    if n_obs is None:\n",
    "        n_obs = np.random.randint(low=n_obs_min, high=n_obs_max + 1)\n",
    "\n",
    "    # For each model index, sample from prior and run generative model.\n",
    "    x = []\n",
    "    theta = []\n",
    "    for m_idx in m_indices:\n",
    "        # Draw from model prior theta ~ p(theta|\n",
    "        theta_m = param_priors[m_idx]()\n",
    "\n",
    "        # Generate data from x = g_m(theta) <=> x ~ p(x|theta,m)\n",
    "        x_m = forward_models[m_idx](theta_m, n_obs)\n",
    "\n",
    "        # Store data and params\n",
    "        x.append(x_m)\n",
    "        theta.append(theta_m)\n",
    "\n",
    "    # One-hot encode model indices\n",
    "    m = to_categorical(m_indices, num_classes=n_models)\n",
    "\n",
    "    # Apply label smoothing, if specified\n",
    "    if alpha_smooth is not None:\n",
    "        m = m * (1 - alpha_smooth) + alpha_smooth / n_models\n",
    "\n",
    "    # Convert to tensor, if specified\n",
    "    if to_tensor:\n",
    "        x = tf.convert_to_tensor(x, dtype=tf.float32)\n",
    "        m = tf.convert_to_tensor(m, dtype=tf.float32)\n",
    "    return {'m': m, 'theta': theta, 'x': x}"
   ]
  },
  {
   "cell_type": "markdown",
   "metadata": {},
   "source": [
    "# Validate evidential network of(unregularized, fixed N)"
   ]
  },
  {
   "cell_type": "markdown",
   "metadata": {},
   "source": [
    "## posterior probability"
   ]
  },
  {
   "cell_type": "code",
   "execution_count": 8,
   "metadata": {},
   "outputs": [],
   "source": [
    "#plot_dirichlet_samples(model_unreg_fixed, \n",
    "#                       x_test=test_data_min['x'][:25], \n",
    "#                       m_test=test_data_min['m'][:25], \n",
    "#                      model_names=model_names,\n",
    "#                       figsize=(12, 8))"
   ]
  },
  {
   "cell_type": "markdown",
   "metadata": {},
   "source": [
    "## confusion matrix"
   ]
  },
  {
   "cell_type": "code",
   "execution_count": 9,
   "metadata": {},
   "outputs": [],
   "source": [
    "#plot_confusion_matrix(model_unreg_fixed, test_data_min['x'], test_data_min['m'], model_names, normalize=True)"
   ]
  },
  {
   "cell_type": "markdown",
   "metadata": {},
   "source": [
    "## Accuracy"
   ]
  },
  {
   "cell_type": "code",
   "execution_count": 10,
   "metadata": {},
   "outputs": [],
   "source": [
    "#m_pred = model_unreg_fixed(test_data_min['x'])['m_probs']\n",
    "#print(accuracy(test_data_min['m'], m_pred))"
   ]
  },
  {
   "cell_type": "markdown",
   "metadata": {},
   "source": [
    "# Train model (KL, no smoothing)"
   ]
  },
  {
   "cell_type": "code",
   "execution_count": 16,
   "metadata": {},
   "outputs": [],
   "source": [
    "def train_models(lambdas, alpha_smooth=None, epochs=5, iterations_per_epoch=1000, batch_size=64):\n",
    "    \n",
    "    #--- Training hyperparameters ---#\n",
    "    n_test = 500\n",
    "    n_obs_min = 1\n",
    "    n_obs_max = 500\n",
    "    alpha_smooth = alpha_smooth\n",
    "1    #--- Optimizer hyperparameters ---#\n",
    "    starter_learning_rate = 0.0005\n",
    "    decay_steps = 1000\n",
    "    decay_rate = .95\n",
    "    \n",
    "    #--- Data generation ---#\n",
    "    param_priors = [exponential_prior, lognormal_prior, gamma_prior]\n",
    "    forward_models = [exponential_model, lognormal_model, gamma_model]\n",
    "    data_gen = partial(data_generator, \n",
    "                       model_prior=model_prior, \n",
    "                       param_priors=param_priors,\n",
    "                       forward_models=forward_models,\n",
    "                       n_obs_min=n_obs_min,\n",
    "                       n_obs_max=n_obs_max,\n",
    "                       alpha_smooth=alpha_smooth)\n",
    "    \n",
    "    # Loop for all lambdas\n",
    "    for i, lambd in enumerate(lambdas):\n",
    "        \n",
    "        # Model \n",
    "        model = DeepEvidentialModel(EVIDENTIAL_DEFAULTS)\n",
    "        \n",
    "        # Optimizer\n",
    "        global_step = tfe.Variable(0, dtype=tf.int32)\n",
    "        learning_rate = tf.train.exponential_decay(starter_learning_rate, global_step, \n",
    "                                                   decay_steps, decay_rate, staircase=True)\n",
    "        optimizer = tf.train.AdamOptimizer(learning_rate=learning_rate)\n",
    "        \n",
    "        # Checkpoint\n",
    "        if alpha_smooth is None:\n",
    "            ckpt_file = \"toy_model_selection_evidential_kl_{}\".format(lambd)\n",
    "        else:\n",
    "            ckpt_file = \"toy_model_selection_evidential_kl_smooth_{}\".format(lambd)\n",
    "        checkpoint = tf.train.Checkpoint(step=global_step, optimizer=optimizer, net=model)\n",
    "        manager = tf.train.CheckpointManager(checkpoint, './checkpoints/{}'.format(ckpt_file), max_to_keep=2)\n",
    "        \n",
    "        if manager.latest_checkpoint:\n",
    "            print('{} alread trained, moving on...'.format(lambd))\n",
    "            continue\n",
    "        \n",
    "        # Train current model\n",
    "        for ep in range(1, epochs + 1):\n",
    "            with tqdm(total=iterations_per_epoch, desc='Training epoch {}'.format(ep)) as p_bar:\n",
    "                losses = train_online(model=model, \n",
    "                                      optimizer=optimizer, \n",
    "                                      data_gen=data_gen, \n",
    "                                      loss_fun=partial(log_loss, lambd=lambd), \n",
    "                                      iterations=iterations_per_epoch,\n",
    "                                      batch_size=batch_size,\n",
    "                                      p_bar=p_bar,\n",
    "                                      global_step=global_step,\n",
    "                                      method='evidence')\n",
    "                manager.save()"
   ]
  },
  {
   "cell_type": "code",
   "execution_count": 17,
   "metadata": {
    "scrolled": true
   },
   "outputs": [
    {
     "name": "stdout",
     "output_type": "stream",
     "text": [
      "0 alread trained, moving on...\n"
     ]
    },
    {
     "data": {
      "application/vnd.jupyter.widget-view+json": {
       "model_id": "2876d8f614c147cc95be18420a8fc248",
       "version_major": 2,
       "version_minor": 0
      },
      "text/plain": [
       "Training epoch 1:   0%|          | 0/1000 [00:00<?, ?it/s]"
      ]
     },
     "metadata": {},
     "output_type": "display_data"
    },
    {
     "data": {
      "application/vnd.jupyter.widget-view+json": {
       "model_id": "9d8ac0fb0b1e4983b7e3b97312c14da1",
       "version_major": 2,
       "version_minor": 0
      },
      "text/plain": [
       "Training epoch 2:   0%|          | 0/1000 [00:00<?, ?it/s]"
      ]
     },
     "metadata": {},
     "output_type": "display_data"
    },
    {
     "data": {
      "application/vnd.jupyter.widget-view+json": {
       "model_id": "b56759c4639b43e2997c5e2b0b67a4aa",
       "version_major": 2,
       "version_minor": 0
      },
      "text/plain": [
       "Training epoch 3:   0%|          | 0/1000 [00:00<?, ?it/s]"
      ]
     },
     "metadata": {},
     "output_type": "display_data"
    },
    {
     "data": {
      "application/vnd.jupyter.widget-view+json": {
       "model_id": "23e0a36b12cd4e089e543cc4a7c4bac6",
       "version_major": 2,
       "version_minor": 0
      },
      "text/plain": [
       "Training epoch 4:   0%|          | 0/1000 [00:00<?, ?it/s]"
      ]
     },
     "metadata": {},
     "output_type": "display_data"
    },
    {
     "data": {
      "application/vnd.jupyter.widget-view+json": {
       "model_id": "80934b16dd344254969c96615294b346",
       "version_major": 2,
       "version_minor": 0
      },
      "text/plain": [
       "Training epoch 5:   0%|          | 0/1000 [00:00<?, ?it/s]"
      ]
     },
     "metadata": {},
     "output_type": "display_data"
    },
    {
     "data": {
      "application/vnd.jupyter.widget-view+json": {
       "model_id": "174b5aa581fb473eb69aeb72745bf835",
       "version_major": 2,
       "version_minor": 0
      },
      "text/plain": [
       "Training epoch 1:   0%|          | 0/1000 [00:00<?, ?it/s]"
      ]
     },
     "metadata": {},
     "output_type": "display_data"
    },
    {
     "data": {
      "application/vnd.jupyter.widget-view+json": {
       "model_id": "97088257a9bd448c9d56bd0a97cbeafd",
       "version_major": 2,
       "version_minor": 0
      },
      "text/plain": [
       "Training epoch 2:   0%|          | 0/1000 [00:00<?, ?it/s]"
      ]
     },
     "metadata": {},
     "output_type": "display_data"
    },
    {
     "data": {
      "application/vnd.jupyter.widget-view+json": {
       "model_id": "0651ec2df8394bf7ba3e5bf4c884c4d3",
       "version_major": 2,
       "version_minor": 0
      },
      "text/plain": [
       "Training epoch 3:   0%|          | 0/1000 [00:00<?, ?it/s]"
      ]
     },
     "metadata": {},
     "output_type": "display_data"
    },
    {
     "data": {
      "application/vnd.jupyter.widget-view+json": {
       "model_id": "95ff8ec371c7489fa7e7dc2848f45598",
       "version_major": 2,
       "version_minor": 0
      },
      "text/plain": [
       "Training epoch 4:   0%|          | 0/1000 [00:00<?, ?it/s]"
      ]
     },
     "metadata": {},
     "output_type": "display_data"
    },
    {
     "data": {
      "application/vnd.jupyter.widget-view+json": {
       "model_id": "51aaf7fea7f64b29b59289e000f1be28",
       "version_major": 2,
       "version_minor": 0
      },
      "text/plain": [
       "Training epoch 5:   0%|          | 0/1000 [00:00<?, ?it/s]"
      ]
     },
     "metadata": {},
     "output_type": "display_data"
    },
    {
     "name": "stdout",
     "output_type": "stream",
     "text": [
      "CPU times: user 2h 50min 54s, sys: 1min 24s, total: 2h 52min 19s\n",
      "Wall time: 38min 6s\n"
     ]
    }
   ],
   "source": [
    "%%time\n",
    "lambdas = [0, 0.5, 1.0]\n",
    "train_models(lambdas)"
   ]
  },
  {
   "cell_type": "code",
   "execution_count": 26,
   "metadata": {},
   "outputs": [],
   "source": [
    "# --- Data generation ---#\n",
    "n_obs_min = 1\n",
    "n_obs_max = 500\n",
    "param_priors = [exponential_prior, lognormal_prior, gamma_prior]\n",
    "forward_models = [exponential_model, lognormal_model, gamma_model]\n",
    "data_gen = partial(data_generator,\n",
    "                   model_prior=model_prior,\n",
    "                   param_priors=param_priors,\n",
    "                   forward_models=forward_models,\n",
    "                   n_obs_min=n_obs_min,\n",
    "                   n_obs_max=n_obs_max)"
   ]
  },
  {
   "cell_type": "code",
   "execution_count": 27,
   "metadata": {},
   "outputs": [
    {
     "name": "stdout",
     "output_type": "stream",
     "text": [
      "WARNING:tensorflow:Unresolved object in checkpoint: (root).optimizer\n",
      "WARNING:tensorflow:Unresolved object in checkpoint: (root).step\n",
      "WARNING:tensorflow:Unresolved object in checkpoint: (root).optimizer.beta1_power\n",
      "WARNING:tensorflow:Unresolved object in checkpoint: (root).optimizer.beta2_power\n",
      "WARNING:tensorflow:Unresolved object in checkpoint: (root).optimizer's state 'm' for (root).net.evidence_layer.kernel\n",
      "WARNING:tensorflow:Unresolved object in checkpoint: (root).optimizer's state 'm' for (root).net.evidence_layer.bias\n",
      "WARNING:tensorflow:Unresolved object in checkpoint: (root).optimizer's state 'm' for (root).net.dense.layer-0.kernel\n",
      "WARNING:tensorflow:Unresolved object in checkpoint: (root).optimizer's state 'm' for (root).net.dense.layer-0.bias\n",
      "WARNING:tensorflow:Unresolved object in checkpoint: (root).optimizer's state 'm' for (root).net.dense.layer-1.kernel\n",
      "WARNING:tensorflow:Unresolved object in checkpoint: (root).optimizer's state 'm' for (root).net.dense.layer-1.bias\n",
      "WARNING:tensorflow:Unresolved object in checkpoint: (root).optimizer's state 'm' for (root).net.net.inv.module.layer-0.kernel\n",
      "WARNING:tensorflow:Unresolved object in checkpoint: (root).optimizer's state 'm' for (root).net.net.inv.module.layer-0.bias\n",
      "WARNING:tensorflow:Unresolved object in checkpoint: (root).optimizer's state 'm' for (root).net.net.inv.module.layer-1.kernel\n",
      "WARNING:tensorflow:Unresolved object in checkpoint: (root).optimizer's state 'm' for (root).net.net.inv.module.layer-1.bias\n",
      "WARNING:tensorflow:Unresolved object in checkpoint: (root).optimizer's state 'm' for (root).net.net.inv.post_pooling_dense.layer-0.kernel\n",
      "WARNING:tensorflow:Unresolved object in checkpoint: (root).optimizer's state 'm' for (root).net.net.inv.post_pooling_dense.layer-0.bias\n",
      "WARNING:tensorflow:Unresolved object in checkpoint: (root).optimizer's state 'm' for (root).net.net.inv.post_pooling_dense.layer-1.kernel\n",
      "WARNING:tensorflow:Unresolved object in checkpoint: (root).optimizer's state 'm' for (root).net.net.inv.post_pooling_dense.layer-1.bias\n",
      "WARNING:tensorflow:Unresolved object in checkpoint: (root).optimizer's state 'm' for (root).net.net.equiv.layer-0.module.layer-0.kernel\n",
      "WARNING:tensorflow:Unresolved object in checkpoint: (root).optimizer's state 'm' for (root).net.net.equiv.layer-0.module.layer-0.bias\n",
      "WARNING:tensorflow:Unresolved object in checkpoint: (root).optimizer's state 'm' for (root).net.net.equiv.layer-0.module.layer-1.kernel\n",
      "WARNING:tensorflow:Unresolved object in checkpoint: (root).optimizer's state 'm' for (root).net.net.equiv.layer-0.module.layer-1.bias\n",
      "WARNING:tensorflow:Unresolved object in checkpoint: (root).optimizer's state 'm' for (root).net.net.equiv.layer-1.module.layer-0.kernel\n",
      "WARNING:tensorflow:Unresolved object in checkpoint: (root).optimizer's state 'm' for (root).net.net.equiv.layer-1.module.layer-0.bias\n",
      "WARNING:tensorflow:Unresolved object in checkpoint: (root).optimizer's state 'm' for (root).net.net.equiv.layer-1.module.layer-1.kernel\n",
      "WARNING:tensorflow:Unresolved object in checkpoint: (root).optimizer's state 'm' for (root).net.net.equiv.layer-1.module.layer-1.bias\n",
      "WARNING:tensorflow:Unresolved object in checkpoint: (root).optimizer's state 'm' for (root).net.net.equiv.layer-0.invariant_module.module.layer-0.kernel\n",
      "WARNING:tensorflow:Unresolved object in checkpoint: (root).optimizer's state 'm' for (root).net.net.equiv.layer-0.invariant_module.module.layer-0.bias\n",
      "WARNING:tensorflow:Unresolved object in checkpoint: (root).optimizer's state 'm' for (root).net.net.equiv.layer-0.invariant_module.module.layer-1.kernel\n",
      "WARNING:tensorflow:Unresolved object in checkpoint: (root).optimizer's state 'm' for (root).net.net.equiv.layer-0.invariant_module.module.layer-1.bias\n",
      "WARNING:tensorflow:Unresolved object in checkpoint: (root).optimizer's state 'm' for (root).net.net.equiv.layer-0.invariant_module.post_pooling_dense.layer-0.kernel\n",
      "WARNING:tensorflow:Unresolved object in checkpoint: (root).optimizer's state 'm' for (root).net.net.equiv.layer-0.invariant_module.post_pooling_dense.layer-0.bias\n",
      "WARNING:tensorflow:Unresolved object in checkpoint: (root).optimizer's state 'm' for (root).net.net.equiv.layer-0.invariant_module.post_pooling_dense.layer-1.kernel\n",
      "WARNING:tensorflow:Unresolved object in checkpoint: (root).optimizer's state 'm' for (root).net.net.equiv.layer-0.invariant_module.post_pooling_dense.layer-1.bias\n",
      "WARNING:tensorflow:Unresolved object in checkpoint: (root).optimizer's state 'm' for (root).net.net.equiv.layer-1.invariant_module.module.layer-0.kernel\n",
      "WARNING:tensorflow:Unresolved object in checkpoint: (root).optimizer's state 'm' for (root).net.net.equiv.layer-1.invariant_module.module.layer-0.bias\n",
      "WARNING:tensorflow:Unresolved object in checkpoint: (root).optimizer's state 'm' for (root).net.net.equiv.layer-1.invariant_module.module.layer-1.kernel\n",
      "WARNING:tensorflow:Unresolved object in checkpoint: (root).optimizer's state 'm' for (root).net.net.equiv.layer-1.invariant_module.module.layer-1.bias\n",
      "WARNING:tensorflow:Unresolved object in checkpoint: (root).optimizer's state 'm' for (root).net.net.equiv.layer-1.invariant_module.post_pooling_dense.layer-0.kernel\n",
      "WARNING:tensorflow:Unresolved object in checkpoint: (root).optimizer's state 'm' for (root).net.net.equiv.layer-1.invariant_module.post_pooling_dense.layer-0.bias\n",
      "WARNING:tensorflow:Unresolved object in checkpoint: (root).optimizer's state 'm' for (root).net.net.equiv.layer-1.invariant_module.post_pooling_dense.layer-1.kernel\n",
      "WARNING:tensorflow:Unresolved object in checkpoint: (root).optimizer's state 'm' for (root).net.net.equiv.layer-1.invariant_module.post_pooling_dense.layer-1.bias\n",
      "WARNING:tensorflow:Unresolved object in checkpoint: (root).optimizer's state 'v' for (root).net.evidence_layer.kernel\n",
      "WARNING:tensorflow:Unresolved object in checkpoint: (root).optimizer's state 'v' for (root).net.evidence_layer.bias\n",
      "WARNING:tensorflow:Unresolved object in checkpoint: (root).optimizer's state 'v' for (root).net.dense.layer-0.kernel\n",
      "WARNING:tensorflow:Unresolved object in checkpoint: (root).optimizer's state 'v' for (root).net.dense.layer-0.bias\n",
      "WARNING:tensorflow:Unresolved object in checkpoint: (root).optimizer's state 'v' for (root).net.dense.layer-1.kernel\n",
      "WARNING:tensorflow:Unresolved object in checkpoint: (root).optimizer's state 'v' for (root).net.dense.layer-1.bias\n",
      "WARNING:tensorflow:Unresolved object in checkpoint: (root).optimizer's state 'v' for (root).net.net.inv.module.layer-0.kernel\n",
      "WARNING:tensorflow:Unresolved object in checkpoint: (root).optimizer's state 'v' for (root).net.net.inv.module.layer-0.bias\n",
      "WARNING:tensorflow:Unresolved object in checkpoint: (root).optimizer's state 'v' for (root).net.net.inv.module.layer-1.kernel\n",
      "WARNING:tensorflow:Unresolved object in checkpoint: (root).optimizer's state 'v' for (root).net.net.inv.module.layer-1.bias\n",
      "WARNING:tensorflow:Unresolved object in checkpoint: (root).optimizer's state 'v' for (root).net.net.inv.post_pooling_dense.layer-0.kernel\n",
      "WARNING:tensorflow:Unresolved object in checkpoint: (root).optimizer's state 'v' for (root).net.net.inv.post_pooling_dense.layer-0.bias\n",
      "WARNING:tensorflow:Unresolved object in checkpoint: (root).optimizer's state 'v' for (root).net.net.inv.post_pooling_dense.layer-1.kernel\n",
      "WARNING:tensorflow:Unresolved object in checkpoint: (root).optimizer's state 'v' for (root).net.net.inv.post_pooling_dense.layer-1.bias\n",
      "WARNING:tensorflow:Unresolved object in checkpoint: (root).optimizer's state 'v' for (root).net.net.equiv.layer-0.module.layer-0.kernel\n",
      "WARNING:tensorflow:Unresolved object in checkpoint: (root).optimizer's state 'v' for (root).net.net.equiv.layer-0.module.layer-0.bias\n",
      "WARNING:tensorflow:Unresolved object in checkpoint: (root).optimizer's state 'v' for (root).net.net.equiv.layer-0.module.layer-1.kernel\n",
      "WARNING:tensorflow:Unresolved object in checkpoint: (root).optimizer's state 'v' for (root).net.net.equiv.layer-0.module.layer-1.bias\n",
      "WARNING:tensorflow:Unresolved object in checkpoint: (root).optimizer's state 'v' for (root).net.net.equiv.layer-1.module.layer-0.kernel\n",
      "WARNING:tensorflow:Unresolved object in checkpoint: (root).optimizer's state 'v' for (root).net.net.equiv.layer-1.module.layer-0.bias\n"
     ]
    },
    {
     "name": "stdout",
     "output_type": "stream",
     "text": [
      "WARNING:tensorflow:Unresolved object in checkpoint: (root).optimizer's state 'v' for (root).net.net.equiv.layer-1.module.layer-1.kernel\n",
      "WARNING:tensorflow:Unresolved object in checkpoint: (root).optimizer's state 'v' for (root).net.net.equiv.layer-1.module.layer-1.bias\n",
      "WARNING:tensorflow:Unresolved object in checkpoint: (root).optimizer's state 'v' for (root).net.net.equiv.layer-0.invariant_module.module.layer-0.kernel\n",
      "WARNING:tensorflow:Unresolved object in checkpoint: (root).optimizer's state 'v' for (root).net.net.equiv.layer-0.invariant_module.module.layer-0.bias\n",
      "WARNING:tensorflow:Unresolved object in checkpoint: (root).optimizer's state 'v' for (root).net.net.equiv.layer-0.invariant_module.module.layer-1.kernel\n",
      "WARNING:tensorflow:Unresolved object in checkpoint: (root).optimizer's state 'v' for (root).net.net.equiv.layer-0.invariant_module.module.layer-1.bias\n",
      "WARNING:tensorflow:Unresolved object in checkpoint: (root).optimizer's state 'v' for (root).net.net.equiv.layer-0.invariant_module.post_pooling_dense.layer-0.kernel\n",
      "WARNING:tensorflow:Unresolved object in checkpoint: (root).optimizer's state 'v' for (root).net.net.equiv.layer-0.invariant_module.post_pooling_dense.layer-0.bias\n",
      "WARNING:tensorflow:Unresolved object in checkpoint: (root).optimizer's state 'v' for (root).net.net.equiv.layer-0.invariant_module.post_pooling_dense.layer-1.kernel\n",
      "WARNING:tensorflow:Unresolved object in checkpoint: (root).optimizer's state 'v' for (root).net.net.equiv.layer-0.invariant_module.post_pooling_dense.layer-1.bias\n",
      "WARNING:tensorflow:Unresolved object in checkpoint: (root).optimizer's state 'v' for (root).net.net.equiv.layer-1.invariant_module.module.layer-0.kernel\n",
      "WARNING:tensorflow:Unresolved object in checkpoint: (root).optimizer's state 'v' for (root).net.net.equiv.layer-1.invariant_module.module.layer-0.bias\n",
      "WARNING:tensorflow:Unresolved object in checkpoint: (root).optimizer's state 'v' for (root).net.net.equiv.layer-1.invariant_module.module.layer-1.kernel\n",
      "WARNING:tensorflow:Unresolved object in checkpoint: (root).optimizer's state 'v' for (root).net.net.equiv.layer-1.invariant_module.module.layer-1.bias\n",
      "WARNING:tensorflow:Unresolved object in checkpoint: (root).optimizer's state 'v' for (root).net.net.equiv.layer-1.invariant_module.post_pooling_dense.layer-0.kernel\n",
      "WARNING:tensorflow:Unresolved object in checkpoint: (root).optimizer's state 'v' for (root).net.net.equiv.layer-1.invariant_module.post_pooling_dense.layer-0.bias\n",
      "WARNING:tensorflow:Unresolved object in checkpoint: (root).optimizer's state 'v' for (root).net.net.equiv.layer-1.invariant_module.post_pooling_dense.layer-1.kernel\n",
      "WARNING:tensorflow:Unresolved object in checkpoint: (root).optimizer's state 'v' for (root).net.net.equiv.layer-1.invariant_module.post_pooling_dense.layer-1.bias\n",
      "WARNING:tensorflow:A checkpoint was restored (e.g. tf.train.Checkpoint.restore or tf.keras.Model.load_weights) but not all checkpointed values were used. See above for specific issues. Use expect_partial() on the load status object, e.g. tf.train.Checkpoint.restore(...).expect_partial(), to silence these warnings, or use assert_consumed() to make the check explicit. See https://www.tensorflow.org/alpha/guide/checkpoints#loading_mechanics for details.\n"
     ]
    }
   ],
   "source": [
    "# Evaluate accuracy, uncertainty and calibration as a function of n\n",
    "n_increment = 10\n",
    "n_test = 5000\n",
    "n_chunks = 10\n",
    "models = {l: {'model': None, 'u': [], 'acc': []} for l in lambdas}\n",
    "for lambd in lambdas:\n",
    "    EVIDENTIAL_DEFAULTS['n_models'] = len(forward_models)\n",
    "    model = DeepEvidentialModel(EVIDENTIAL_DEFAULTS)\n",
    "    ckpt_file = \"toy_model_selection_evidential_kl_{}\".format(lambd)\n",
    "    checkpoint = tf.train.Checkpoint(net=model)\n",
    "    manager = tf.train.CheckpointManager(checkpoint, './checkpoints/{}'.format(ckpt_file), max_to_keep=2)\n",
    "    checkpoint.restore(manager.latest_checkpoint)\n",
    "    models[lambd]['model'] = model"
   ]
  },
  {
   "cell_type": "markdown",
   "metadata": {},
   "source": [
    "## Compute metrics"
   ]
  },
  {
   "cell_type": "code",
   "execution_count": 28,
   "metadata": {},
   "outputs": [
    {
     "name": "stdout",
     "output_type": "stream",
     "text": [
      "WARNING:tensorflow:Unresolved object in checkpoint: (root).optimizer\n",
      "WARNING:tensorflow:Unresolved object in checkpoint: (root).step\n",
      "WARNING:tensorflow:Unresolved object in checkpoint: (root).optimizer.beta1_power\n",
      "WARNING:tensorflow:Unresolved object in checkpoint: (root).optimizer.beta2_power\n",
      "WARNING:tensorflow:Unresolved object in checkpoint: (root).optimizer's state 'm' for (root).net.evidence_layer.kernel\n",
      "WARNING:tensorflow:Unresolved object in checkpoint: (root).optimizer's state 'm' for (root).net.evidence_layer.bias\n",
      "WARNING:tensorflow:Unresolved object in checkpoint: (root).optimizer's state 'm' for (root).net.dense.layer-0.kernel\n",
      "WARNING:tensorflow:Unresolved object in checkpoint: (root).optimizer's state 'm' for (root).net.dense.layer-0.bias\n",
      "WARNING:tensorflow:Unresolved object in checkpoint: (root).optimizer's state 'm' for (root).net.dense.layer-1.kernel\n",
      "WARNING:tensorflow:Unresolved object in checkpoint: (root).optimizer's state 'm' for (root).net.dense.layer-1.bias\n",
      "WARNING:tensorflow:Unresolved object in checkpoint: (root).optimizer's state 'm' for (root).net.net.inv.module.layer-0.kernel\n",
      "WARNING:tensorflow:Unresolved object in checkpoint: (root).optimizer's state 'm' for (root).net.net.inv.module.layer-0.bias\n",
      "WARNING:tensorflow:Unresolved object in checkpoint: (root).optimizer's state 'm' for (root).net.net.inv.module.layer-1.kernel\n",
      "WARNING:tensorflow:Unresolved object in checkpoint: (root).optimizer's state 'm' for (root).net.net.inv.module.layer-1.bias\n",
      "WARNING:tensorflow:Unresolved object in checkpoint: (root).optimizer's state 'm' for (root).net.net.inv.post_pooling_dense.layer-0.kernel\n",
      "WARNING:tensorflow:Unresolved object in checkpoint: (root).optimizer's state 'm' for (root).net.net.inv.post_pooling_dense.layer-0.bias\n",
      "WARNING:tensorflow:Unresolved object in checkpoint: (root).optimizer's state 'm' for (root).net.net.inv.post_pooling_dense.layer-1.kernel\n",
      "WARNING:tensorflow:Unresolved object in checkpoint: (root).optimizer's state 'm' for (root).net.net.inv.post_pooling_dense.layer-1.bias\n",
      "WARNING:tensorflow:Unresolved object in checkpoint: (root).optimizer's state 'm' for (root).net.net.equiv.layer-0.module.layer-0.kernel\n",
      "WARNING:tensorflow:Unresolved object in checkpoint: (root).optimizer's state 'm' for (root).net.net.equiv.layer-0.module.layer-0.bias\n",
      "WARNING:tensorflow:Unresolved object in checkpoint: (root).optimizer's state 'm' for (root).net.net.equiv.layer-0.module.layer-1.kernel\n",
      "WARNING:tensorflow:Unresolved object in checkpoint: (root).optimizer's state 'm' for (root).net.net.equiv.layer-0.module.layer-1.bias\n",
      "WARNING:tensorflow:Unresolved object in checkpoint: (root).optimizer's state 'm' for (root).net.net.equiv.layer-1.module.layer-0.kernel\n",
      "WARNING:tensorflow:Unresolved object in checkpoint: (root).optimizer's state 'm' for (root).net.net.equiv.layer-1.module.layer-0.bias\n",
      "WARNING:tensorflow:Unresolved object in checkpoint: (root).optimizer's state 'm' for (root).net.net.equiv.layer-1.module.layer-1.kernel\n",
      "WARNING:tensorflow:Unresolved object in checkpoint: (root).optimizer's state 'm' for (root).net.net.equiv.layer-1.module.layer-1.bias\n",
      "WARNING:tensorflow:Unresolved object in checkpoint: (root).optimizer's state 'm' for (root).net.net.equiv.layer-0.invariant_module.module.layer-0.kernel\n",
      "WARNING:tensorflow:Unresolved object in checkpoint: (root).optimizer's state 'm' for (root).net.net.equiv.layer-0.invariant_module.module.layer-0.bias\n",
      "WARNING:tensorflow:Unresolved object in checkpoint: (root).optimizer's state 'm' for (root).net.net.equiv.layer-0.invariant_module.module.layer-1.kernel\n",
      "WARNING:tensorflow:Unresolved object in checkpoint: (root).optimizer's state 'm' for (root).net.net.equiv.layer-0.invariant_module.module.layer-1.bias\n",
      "WARNING:tensorflow:Unresolved object in checkpoint: (root).optimizer's state 'm' for (root).net.net.equiv.layer-0.invariant_module.post_pooling_dense.layer-0.kernel\n",
      "WARNING:tensorflow:Unresolved object in checkpoint: (root).optimizer's state 'm' for (root).net.net.equiv.layer-0.invariant_module.post_pooling_dense.layer-0.bias\n",
      "WARNING:tensorflow:Unresolved object in checkpoint: (root).optimizer's state 'm' for (root).net.net.equiv.layer-0.invariant_module.post_pooling_dense.layer-1.kernel\n",
      "WARNING:tensorflow:Unresolved object in checkpoint: (root).optimizer's state 'm' for (root).net.net.equiv.layer-0.invariant_module.post_pooling_dense.layer-1.bias\n",
      "WARNING:tensorflow:Unresolved object in checkpoint: (root).optimizer's state 'm' for (root).net.net.equiv.layer-1.invariant_module.module.layer-0.kernel\n",
      "WARNING:tensorflow:Unresolved object in checkpoint: (root).optimizer's state 'm' for (root).net.net.equiv.layer-1.invariant_module.module.layer-0.bias\n",
      "WARNING:tensorflow:Unresolved object in checkpoint: (root).optimizer's state 'm' for (root).net.net.equiv.layer-1.invariant_module.module.layer-1.kernel\n",
      "WARNING:tensorflow:Unresolved object in checkpoint: (root).optimizer's state 'm' for (root).net.net.equiv.layer-1.invariant_module.module.layer-1.bias\n",
      "WARNING:tensorflow:Unresolved object in checkpoint: (root).optimizer's state 'm' for (root).net.net.equiv.layer-1.invariant_module.post_pooling_dense.layer-0.kernel\n",
      "WARNING:tensorflow:Unresolved object in checkpoint: (root).optimizer's state 'm' for (root).net.net.equiv.layer-1.invariant_module.post_pooling_dense.layer-0.bias\n",
      "WARNING:tensorflow:Unresolved object in checkpoint: (root).optimizer's state 'm' for (root).net.net.equiv.layer-1.invariant_module.post_pooling_dense.layer-1.kernel\n",
      "WARNING:tensorflow:Unresolved object in checkpoint: (root).optimizer's state 'm' for (root).net.net.equiv.layer-1.invariant_module.post_pooling_dense.layer-1.bias\n",
      "WARNING:tensorflow:Unresolved object in checkpoint: (root).optimizer's state 'v' for (root).net.evidence_layer.kernel\n",
      "WARNING:tensorflow:Unresolved object in checkpoint: (root).optimizer's state 'v' for (root).net.evidence_layer.bias\n",
      "WARNING:tensorflow:Unresolved object in checkpoint: (root).optimizer's state 'v' for (root).net.dense.layer-0.kernel\n",
      "WARNING:tensorflow:Unresolved object in checkpoint: (root).optimizer's state 'v' for (root).net.dense.layer-0.bias\n",
      "WARNING:tensorflow:Unresolved object in checkpoint: (root).optimizer's state 'v' for (root).net.dense.layer-1.kernel\n",
      "WARNING:tensorflow:Unresolved object in checkpoint: (root).optimizer's state 'v' for (root).net.dense.layer-1.bias\n",
      "WARNING:tensorflow:Unresolved object in checkpoint: (root).optimizer's state 'v' for (root).net.net.inv.module.layer-0.kernel\n",
      "WARNING:tensorflow:Unresolved object in checkpoint: (root).optimizer's state 'v' for (root).net.net.inv.module.layer-0.bias\n",
      "WARNING:tensorflow:Unresolved object in checkpoint: (root).optimizer's state 'v' for (root).net.net.inv.module.layer-1.kernel\n",
      "WARNING:tensorflow:Unresolved object in checkpoint: (root).optimizer's state 'v' for (root).net.net.inv.module.layer-1.bias\n",
      "WARNING:tensorflow:Unresolved object in checkpoint: (root).optimizer's state 'v' for (root).net.net.inv.post_pooling_dense.layer-0.kernel\n",
      "WARNING:tensorflow:Unresolved object in checkpoint: (root).optimizer's state 'v' for (root).net.net.inv.post_pooling_dense.layer-0.bias\n",
      "WARNING:tensorflow:Unresolved object in checkpoint: (root).optimizer's state 'v' for (root).net.net.inv.post_pooling_dense.layer-1.kernel\n",
      "WARNING:tensorflow:Unresolved object in checkpoint: (root).optimizer's state 'v' for (root).net.net.inv.post_pooling_dense.layer-1.bias\n",
      "WARNING:tensorflow:Unresolved object in checkpoint: (root).optimizer's state 'v' for (root).net.net.equiv.layer-0.module.layer-0.kernel\n",
      "WARNING:tensorflow:Unresolved object in checkpoint: (root).optimizer's state 'v' for (root).net.net.equiv.layer-0.module.layer-0.bias\n",
      "WARNING:tensorflow:Unresolved object in checkpoint: (root).optimizer's state 'v' for (root).net.net.equiv.layer-0.module.layer-1.kernel\n",
      "WARNING:tensorflow:Unresolved object in checkpoint: (root).optimizer's state 'v' for (root).net.net.equiv.layer-0.module.layer-1.bias\n",
      "WARNING:tensorflow:Unresolved object in checkpoint: (root).optimizer's state 'v' for (root).net.net.equiv.layer-1.module.layer-0.kernel\n",
      "WARNING:tensorflow:Unresolved object in checkpoint: (root).optimizer's state 'v' for (root).net.net.equiv.layer-1.module.layer-0.bias\n"
     ]
    },
    {
     "name": "stdout",
     "output_type": "stream",
     "text": [
      "WARNING:tensorflow:Unresolved object in checkpoint: (root).optimizer's state 'v' for (root).net.net.equiv.layer-1.module.layer-1.kernel\n",
      "WARNING:tensorflow:Unresolved object in checkpoint: (root).optimizer's state 'v' for (root).net.net.equiv.layer-1.module.layer-1.bias\n",
      "WARNING:tensorflow:Unresolved object in checkpoint: (root).optimizer's state 'v' for (root).net.net.equiv.layer-0.invariant_module.module.layer-0.kernel\n",
      "WARNING:tensorflow:Unresolved object in checkpoint: (root).optimizer's state 'v' for (root).net.net.equiv.layer-0.invariant_module.module.layer-0.bias\n",
      "WARNING:tensorflow:Unresolved object in checkpoint: (root).optimizer's state 'v' for (root).net.net.equiv.layer-0.invariant_module.module.layer-1.kernel\n",
      "WARNING:tensorflow:Unresolved object in checkpoint: (root).optimizer's state 'v' for (root).net.net.equiv.layer-0.invariant_module.module.layer-1.bias\n",
      "WARNING:tensorflow:Unresolved object in checkpoint: (root).optimizer's state 'v' for (root).net.net.equiv.layer-0.invariant_module.post_pooling_dense.layer-0.kernel\n",
      "WARNING:tensorflow:Unresolved object in checkpoint: (root).optimizer's state 'v' for (root).net.net.equiv.layer-0.invariant_module.post_pooling_dense.layer-0.bias\n",
      "WARNING:tensorflow:Unresolved object in checkpoint: (root).optimizer's state 'v' for (root).net.net.equiv.layer-0.invariant_module.post_pooling_dense.layer-1.kernel\n",
      "WARNING:tensorflow:Unresolved object in checkpoint: (root).optimizer's state 'v' for (root).net.net.equiv.layer-0.invariant_module.post_pooling_dense.layer-1.bias\n",
      "WARNING:tensorflow:Unresolved object in checkpoint: (root).optimizer's state 'v' for (root).net.net.equiv.layer-1.invariant_module.module.layer-0.kernel\n",
      "WARNING:tensorflow:Unresolved object in checkpoint: (root).optimizer's state 'v' for (root).net.net.equiv.layer-1.invariant_module.module.layer-0.bias\n",
      "WARNING:tensorflow:Unresolved object in checkpoint: (root).optimizer's state 'v' for (root).net.net.equiv.layer-1.invariant_module.module.layer-1.kernel\n",
      "WARNING:tensorflow:Unresolved object in checkpoint: (root).optimizer's state 'v' for (root).net.net.equiv.layer-1.invariant_module.module.layer-1.bias\n",
      "WARNING:tensorflow:Unresolved object in checkpoint: (root).optimizer's state 'v' for (root).net.net.equiv.layer-1.invariant_module.post_pooling_dense.layer-0.kernel\n",
      "WARNING:tensorflow:Unresolved object in checkpoint: (root).optimizer's state 'v' for (root).net.net.equiv.layer-1.invariant_module.post_pooling_dense.layer-0.bias\n",
      "WARNING:tensorflow:Unresolved object in checkpoint: (root).optimizer's state 'v' for (root).net.net.equiv.layer-1.invariant_module.post_pooling_dense.layer-1.kernel\n",
      "WARNING:tensorflow:Unresolved object in checkpoint: (root).optimizer's state 'v' for (root).net.net.equiv.layer-1.invariant_module.post_pooling_dense.layer-1.bias\n",
      "WARNING:tensorflow:A checkpoint was restored (e.g. tf.train.Checkpoint.restore or tf.keras.Model.load_weights) but not all checkpointed values were used. See above for specific issues. Use expect_partial() on the load status object, e.g. tf.train.Checkpoint.restore(...).expect_partial(), to silence these warnings, or use assert_consumed() to make the check explicit. See https://www.tensorflow.org/alpha/guide/checkpoints#loading_mechanics for details.\n",
      "WARNING:tensorflow:Unresolved object in checkpoint: (root).optimizer\n",
      "WARNING:tensorflow:Unresolved object in checkpoint: (root).step\n",
      "WARNING:tensorflow:Unresolved object in checkpoint: (root).optimizer.beta1_power\n",
      "WARNING:tensorflow:Unresolved object in checkpoint: (root).optimizer.beta2_power\n",
      "WARNING:tensorflow:Unresolved object in checkpoint: (root).optimizer's state 'm' for (root).net.evidence_layer.kernel\n",
      "WARNING:tensorflow:Unresolved object in checkpoint: (root).optimizer's state 'm' for (root).net.evidence_layer.bias\n",
      "WARNING:tensorflow:Unresolved object in checkpoint: (root).optimizer's state 'm' for (root).net.dense.layer-0.kernel\n",
      "WARNING:tensorflow:Unresolved object in checkpoint: (root).optimizer's state 'm' for (root).net.dense.layer-0.bias\n",
      "WARNING:tensorflow:Unresolved object in checkpoint: (root).optimizer's state 'm' for (root).net.dense.layer-1.kernel\n",
      "WARNING:tensorflow:Unresolved object in checkpoint: (root).optimizer's state 'm' for (root).net.dense.layer-1.bias\n",
      "WARNING:tensorflow:Unresolved object in checkpoint: (root).optimizer's state 'm' for (root).net.net.inv.module.layer-0.kernel\n",
      "WARNING:tensorflow:Unresolved object in checkpoint: (root).optimizer's state 'm' for (root).net.net.inv.module.layer-0.bias\n",
      "WARNING:tensorflow:Unresolved object in checkpoint: (root).optimizer's state 'm' for (root).net.net.inv.module.layer-1.kernel\n",
      "WARNING:tensorflow:Unresolved object in checkpoint: (root).optimizer's state 'm' for (root).net.net.inv.module.layer-1.bias\n",
      "WARNING:tensorflow:Unresolved object in checkpoint: (root).optimizer's state 'm' for (root).net.net.inv.post_pooling_dense.layer-0.kernel\n",
      "WARNING:tensorflow:Unresolved object in checkpoint: (root).optimizer's state 'm' for (root).net.net.inv.post_pooling_dense.layer-0.bias\n",
      "WARNING:tensorflow:Unresolved object in checkpoint: (root).optimizer's state 'm' for (root).net.net.inv.post_pooling_dense.layer-1.kernel\n",
      "WARNING:tensorflow:Unresolved object in checkpoint: (root).optimizer's state 'm' for (root).net.net.inv.post_pooling_dense.layer-1.bias\n",
      "WARNING:tensorflow:Unresolved object in checkpoint: (root).optimizer's state 'm' for (root).net.net.equiv.layer-0.module.layer-0.kernel\n",
      "WARNING:tensorflow:Unresolved object in checkpoint: (root).optimizer's state 'm' for (root).net.net.equiv.layer-0.module.layer-0.bias\n",
      "WARNING:tensorflow:Unresolved object in checkpoint: (root).optimizer's state 'm' for (root).net.net.equiv.layer-0.module.layer-1.kernel\n",
      "WARNING:tensorflow:Unresolved object in checkpoint: (root).optimizer's state 'm' for (root).net.net.equiv.layer-0.module.layer-1.bias\n",
      "WARNING:tensorflow:Unresolved object in checkpoint: (root).optimizer's state 'm' for (root).net.net.equiv.layer-1.module.layer-0.kernel\n",
      "WARNING:tensorflow:Unresolved object in checkpoint: (root).optimizer's state 'm' for (root).net.net.equiv.layer-1.module.layer-0.bias\n",
      "WARNING:tensorflow:Unresolved object in checkpoint: (root).optimizer's state 'm' for (root).net.net.equiv.layer-1.module.layer-1.kernel\n",
      "WARNING:tensorflow:Unresolved object in checkpoint: (root).optimizer's state 'm' for (root).net.net.equiv.layer-1.module.layer-1.bias\n",
      "WARNING:tensorflow:Unresolved object in checkpoint: (root).optimizer's state 'm' for (root).net.net.equiv.layer-0.invariant_module.module.layer-0.kernel\n",
      "WARNING:tensorflow:Unresolved object in checkpoint: (root).optimizer's state 'm' for (root).net.net.equiv.layer-0.invariant_module.module.layer-0.bias\n",
      "WARNING:tensorflow:Unresolved object in checkpoint: (root).optimizer's state 'm' for (root).net.net.equiv.layer-0.invariant_module.module.layer-1.kernel\n",
      "WARNING:tensorflow:Unresolved object in checkpoint: (root).optimizer's state 'm' for (root).net.net.equiv.layer-0.invariant_module.module.layer-1.bias\n",
      "WARNING:tensorflow:Unresolved object in checkpoint: (root).optimizer's state 'm' for (root).net.net.equiv.layer-0.invariant_module.post_pooling_dense.layer-0.kernel\n",
      "WARNING:tensorflow:Unresolved object in checkpoint: (root).optimizer's state 'm' for (root).net.net.equiv.layer-0.invariant_module.post_pooling_dense.layer-0.bias\n",
      "WARNING:tensorflow:Unresolved object in checkpoint: (root).optimizer's state 'm' for (root).net.net.equiv.layer-0.invariant_module.post_pooling_dense.layer-1.kernel\n",
      "WARNING:tensorflow:Unresolved object in checkpoint: (root).optimizer's state 'm' for (root).net.net.equiv.layer-0.invariant_module.post_pooling_dense.layer-1.bias\n",
      "WARNING:tensorflow:Unresolved object in checkpoint: (root).optimizer's state 'm' for (root).net.net.equiv.layer-1.invariant_module.module.layer-0.kernel\n",
      "WARNING:tensorflow:Unresolved object in checkpoint: (root).optimizer's state 'm' for (root).net.net.equiv.layer-1.invariant_module.module.layer-0.bias\n",
      "WARNING:tensorflow:Unresolved object in checkpoint: (root).optimizer's state 'm' for (root).net.net.equiv.layer-1.invariant_module.module.layer-1.kernel\n",
      "WARNING:tensorflow:Unresolved object in checkpoint: (root).optimizer's state 'm' for (root).net.net.equiv.layer-1.invariant_module.module.layer-1.bias\n"
     ]
    },
    {
     "name": "stdout",
     "output_type": "stream",
     "text": [
      "WARNING:tensorflow:Unresolved object in checkpoint: (root).optimizer's state 'm' for (root).net.net.equiv.layer-1.invariant_module.post_pooling_dense.layer-0.kernel\n",
      "WARNING:tensorflow:Unresolved object in checkpoint: (root).optimizer's state 'm' for (root).net.net.equiv.layer-1.invariant_module.post_pooling_dense.layer-0.bias\n",
      "WARNING:tensorflow:Unresolved object in checkpoint: (root).optimizer's state 'm' for (root).net.net.equiv.layer-1.invariant_module.post_pooling_dense.layer-1.kernel\n",
      "WARNING:tensorflow:Unresolved object in checkpoint: (root).optimizer's state 'm' for (root).net.net.equiv.layer-1.invariant_module.post_pooling_dense.layer-1.bias\n",
      "WARNING:tensorflow:Unresolved object in checkpoint: (root).optimizer's state 'v' for (root).net.evidence_layer.kernel\n",
      "WARNING:tensorflow:Unresolved object in checkpoint: (root).optimizer's state 'v' for (root).net.evidence_layer.bias\n",
      "WARNING:tensorflow:Unresolved object in checkpoint: (root).optimizer's state 'v' for (root).net.dense.layer-0.kernel\n",
      "WARNING:tensorflow:Unresolved object in checkpoint: (root).optimizer's state 'v' for (root).net.dense.layer-0.bias\n",
      "WARNING:tensorflow:Unresolved object in checkpoint: (root).optimizer's state 'v' for (root).net.dense.layer-1.kernel\n",
      "WARNING:tensorflow:Unresolved object in checkpoint: (root).optimizer's state 'v' for (root).net.dense.layer-1.bias\n",
      "WARNING:tensorflow:Unresolved object in checkpoint: (root).optimizer's state 'v' for (root).net.net.inv.module.layer-0.kernel\n",
      "WARNING:tensorflow:Unresolved object in checkpoint: (root).optimizer's state 'v' for (root).net.net.inv.module.layer-0.bias\n",
      "WARNING:tensorflow:Unresolved object in checkpoint: (root).optimizer's state 'v' for (root).net.net.inv.module.layer-1.kernel\n",
      "WARNING:tensorflow:Unresolved object in checkpoint: (root).optimizer's state 'v' for (root).net.net.inv.module.layer-1.bias\n",
      "WARNING:tensorflow:Unresolved object in checkpoint: (root).optimizer's state 'v' for (root).net.net.inv.post_pooling_dense.layer-0.kernel\n",
      "WARNING:tensorflow:Unresolved object in checkpoint: (root).optimizer's state 'v' for (root).net.net.inv.post_pooling_dense.layer-0.bias\n",
      "WARNING:tensorflow:Unresolved object in checkpoint: (root).optimizer's state 'v' for (root).net.net.inv.post_pooling_dense.layer-1.kernel\n",
      "WARNING:tensorflow:Unresolved object in checkpoint: (root).optimizer's state 'v' for (root).net.net.inv.post_pooling_dense.layer-1.bias\n",
      "WARNING:tensorflow:Unresolved object in checkpoint: (root).optimizer's state 'v' for (root).net.net.equiv.layer-0.module.layer-0.kernel\n",
      "WARNING:tensorflow:Unresolved object in checkpoint: (root).optimizer's state 'v' for (root).net.net.equiv.layer-0.module.layer-0.bias\n",
      "WARNING:tensorflow:Unresolved object in checkpoint: (root).optimizer's state 'v' for (root).net.net.equiv.layer-0.module.layer-1.kernel\n",
      "WARNING:tensorflow:Unresolved object in checkpoint: (root).optimizer's state 'v' for (root).net.net.equiv.layer-0.module.layer-1.bias\n",
      "WARNING:tensorflow:Unresolved object in checkpoint: (root).optimizer's state 'v' for (root).net.net.equiv.layer-1.module.layer-0.kernel\n",
      "WARNING:tensorflow:Unresolved object in checkpoint: (root).optimizer's state 'v' for (root).net.net.equiv.layer-1.module.layer-0.bias\n",
      "WARNING:tensorflow:Unresolved object in checkpoint: (root).optimizer's state 'v' for (root).net.net.equiv.layer-1.module.layer-1.kernel\n",
      "WARNING:tensorflow:Unresolved object in checkpoint: (root).optimizer's state 'v' for (root).net.net.equiv.layer-1.module.layer-1.bias\n",
      "WARNING:tensorflow:Unresolved object in checkpoint: (root).optimizer's state 'v' for (root).net.net.equiv.layer-0.invariant_module.module.layer-0.kernel\n",
      "WARNING:tensorflow:Unresolved object in checkpoint: (root).optimizer's state 'v' for (root).net.net.equiv.layer-0.invariant_module.module.layer-0.bias\n",
      "WARNING:tensorflow:Unresolved object in checkpoint: (root).optimizer's state 'v' for (root).net.net.equiv.layer-0.invariant_module.module.layer-1.kernel\n",
      "WARNING:tensorflow:Unresolved object in checkpoint: (root).optimizer's state 'v' for (root).net.net.equiv.layer-0.invariant_module.module.layer-1.bias\n",
      "WARNING:tensorflow:Unresolved object in checkpoint: (root).optimizer's state 'v' for (root).net.net.equiv.layer-0.invariant_module.post_pooling_dense.layer-0.kernel\n",
      "WARNING:tensorflow:Unresolved object in checkpoint: (root).optimizer's state 'v' for (root).net.net.equiv.layer-0.invariant_module.post_pooling_dense.layer-0.bias\n",
      "WARNING:tensorflow:Unresolved object in checkpoint: (root).optimizer's state 'v' for (root).net.net.equiv.layer-0.invariant_module.post_pooling_dense.layer-1.kernel\n",
      "WARNING:tensorflow:Unresolved object in checkpoint: (root).optimizer's state 'v' for (root).net.net.equiv.layer-0.invariant_module.post_pooling_dense.layer-1.bias\n",
      "WARNING:tensorflow:Unresolved object in checkpoint: (root).optimizer's state 'v' for (root).net.net.equiv.layer-1.invariant_module.module.layer-0.kernel\n",
      "WARNING:tensorflow:Unresolved object in checkpoint: (root).optimizer's state 'v' for (root).net.net.equiv.layer-1.invariant_module.module.layer-0.bias\n",
      "WARNING:tensorflow:Unresolved object in checkpoint: (root).optimizer's state 'v' for (root).net.net.equiv.layer-1.invariant_module.module.layer-1.kernel\n",
      "WARNING:tensorflow:Unresolved object in checkpoint: (root).optimizer's state 'v' for (root).net.net.equiv.layer-1.invariant_module.module.layer-1.bias\n",
      "WARNING:tensorflow:Unresolved object in checkpoint: (root).optimizer's state 'v' for (root).net.net.equiv.layer-1.invariant_module.post_pooling_dense.layer-0.kernel\n",
      "WARNING:tensorflow:Unresolved object in checkpoint: (root).optimizer's state 'v' for (root).net.net.equiv.layer-1.invariant_module.post_pooling_dense.layer-0.bias\n",
      "WARNING:tensorflow:Unresolved object in checkpoint: (root).optimizer's state 'v' for (root).net.net.equiv.layer-1.invariant_module.post_pooling_dense.layer-1.kernel\n",
      "WARNING:tensorflow:Unresolved object in checkpoint: (root).optimizer's state 'v' for (root).net.net.equiv.layer-1.invariant_module.post_pooling_dense.layer-1.bias\n",
      "WARNING:tensorflow:A checkpoint was restored (e.g. tf.train.Checkpoint.restore or tf.keras.Model.load_weights) but not all checkpointed values were used. See above for specific issues. Use expect_partial() on the load status object, e.g. tf.train.Checkpoint.restore(...).expect_partial(), to silence these warnings, or use assert_consumed() to make the check explicit. See https://www.tensorflow.org/alpha/guide/checkpoints#loading_mechanics for details.\n"
     ]
    }
   ],
   "source": [
    "# Compute accuracy, uncertainty and calibration error as a function of N\n",
    "for n in range(n_obs_min, n_obs_max + 2, n_increment):\n",
    "\n",
    "    # Create test data\n",
    "    test_data_c = data_gen(n_test, n_obs=n)\n",
    "\n",
    "    for model in models.values():\n",
    "        # Predict without blowing off GPU memory\n",
    "        preds = [model['model'].predict(x, to_numpy=True)\n",
    "                 for x in tf.split(test_data_c['x'], n_chunks, axis=0)]\n",
    "\n",
    "        # Extract probs and uncertainties\n",
    "        m_p = np.concatenate([p['m_probs'] for p in preds])\n",
    "        u_p = np.concatenate([p['uncertainty'] for p in preds])\n",
    "\n",
    "        # Compute accuracy\n",
    "        acc = accuracy(test_data_c['m'], m_p)\n",
    "\n",
    "        # Store\n",
    "        model['acc'].append(acc)\n",
    "        model['u'].append(np.mean(u_p))"
   ]
  },
  {
   "cell_type": "markdown",
   "metadata": {},
   "source": [
    "## Plot accuracy and uncertainty over N"
   ]
  },
  {
   "cell_type": "code",
   "execution_count": 29,
   "metadata": {},
   "outputs": [],
   "source": [
    "x = tf.convert_to_tensor(np.random.beta(1, 2, size=(500, 500, 1)), dtype=tf.float32)\n",
    "uncertainties = {l: [] for l in lambdas}\n",
    "\n",
    "# Loop through models\n",
    "for l, model in models.items():\n",
    "    # Loop through shifts\n",
    "    for k in np.linspace(0.1, 10, 50):\n",
    "        # Compute uncertainty on shifted data\n",
    "        u = model['model'].predict(x + k, to_numpy=True)['uncertainty'].mean()\n",
    "        uncertainties[l].append(u)"
   ]
  },
  {
   "cell_type": "code",
   "execution_count": 58,
   "metadata": {},
   "outputs": [
    {
     "data": {
      "image/png": "[encoded data removed]",
      "text/plain": [
       "<Figure size 864x216 with 3 Axes>"
      ]
     },
     "metadata": {
      "needs_background": "light"
     },
     "output_type": "display_data"
    }
   ],
   "source": [
    "plt.rcParams['font.size'] = 12\n",
    "\n",
    "# Plot stuff\n",
    "f, axarr = plt.subplots(1, 3, figsize=(12, 3))\n",
    "for l, model in models.items():\n",
    "    \n",
    "    axarr[0].plot(range(n_obs_min, \n",
    "                        n_obs_max+2, n_increment), \n",
    "                  model['acc'], label=r'$\\lambda={}$'.format(l), lw=2)\n",
    "    \n",
    "    axarr[1].plot(range(n_obs_min, \n",
    "                        n_obs_max+2, \n",
    "                        n_increment), \n",
    "                  model['u'], label=r'$\\lambda={}$'.format(l), lw=2)\n",
    "    \n",
    "axarr[0].spines['right'].set_visible(False)\n",
    "axarr[0].spines['top'].set_visible(False)\n",
    "axarr[0].set_xlabel(r'$N$')\n",
    "axarr[0].set_ylabel(r'Accuracy')\n",
    "axarr[0].legend(fontsize=10)\n",
    "axarr[0].set_title(r'Accuracy across $N$')\n",
    "\n",
    "axarr[1].spines['right'].set_visible(False)\n",
    "axarr[1].spines['top'].set_visible(False)\n",
    "axarr[1].set_xlabel(r'$N$')\n",
    "axarr[1].set_ylabel(r'Uncertainty')\n",
    "axarr[1].set_title(r'Uncertainty across $N$')\n",
    "\n",
    "\n",
    "for l, u in uncertainties.items():\n",
    "    axarr[2].plot(np.linspace(0.1, 10, 50), u, label=r'$\\lambda={}$'.format(l))\n",
    "    axarr[2].spines['right'].set_visible(False)\n",
    "    axarr[2].spines['top'].set_visible(False)\n",
    "    axarr[2].set_xlabel('Shift')\n",
    "    axarr[2].set_ylabel('Uncertainty')\n",
    "    axarr[2].set_title(r'Uncertainty across $k$')\n",
    "    \n",
    "f.savefig('figures/Figure1a.png', dpi=300, bbox_inches='tight')"
   ]
  },
  {
   "cell_type": "markdown",
   "metadata": {},
   "source": [
    "## Plot Calibration Curves"
   ]
  },
  {
   "cell_type": "code",
   "execution_count": 30,
   "metadata": {},
   "outputs": [
    {
     "data": {
      "image/png": "[encoded data removed]",
      "text/plain": [
       "<Figure size 864x216 with 3 Axes>"
      ]
     },
     "metadata": {
      "needs_background": "light"
     },
     "output_type": "display_data"
    }
   ],
   "source": [
    "test_data_cal = data_gen(5000, n_obs=20)\n",
    "n_chunks = 10\n",
    "model_names = ['Exponential', 'Log-Normal', 'Gamma']\n",
    "f, axarr = plt.subplots(1, 3, figsize=(12, 3))\n",
    "\n",
    "for l, model in models.items():\n",
    "\n",
    "    # Compute calibrations\n",
    "    m_p = np.concatenate([model['model'].predict(x, to_numpy=True)['m_probs']\n",
    "                          for x in tf.split(test_data_cal['x'], n_chunks, axis=0)])\n",
    "    cal_errs, cal_probs = expected_calibration_error(test_data_cal['m'], m_p)\n",
    "\n",
    "    for i, ax in enumerate(axarr):\n",
    "        ax.plot(cal_probs[i][0], cal_probs[i][1], label=r'$\\lambda={}$'.format(l))\n",
    "        ax.plot(ax.get_xlim(), ax.get_xlim(), '--', color='black')\n",
    "        ax.spines['right'].set_visible(False)\n",
    "        ax.spines['top'].set_visible(False)\n",
    "        ax.set_xlim([0, 1])\n",
    "        ax.set_ylim([0, 1])\n",
    "        ax.set_title(model_names[i])\n",
    "\n",
    "        if i == 0:\n",
    "            ax.legend(fontsize=10)\n",
    "            ax.set_xlabel('Accuracy')\n",
    "            ax.set_ylabel('Confidence')\n",
    "\n",
    "f.savefig('figures/Figure1b.png', dpi=300, bbox_inches='tight')"
   ]
  },
  {
   "cell_type": "markdown",
   "metadata": {},
   "source": [
    "## Compute metric"
   ]
  },
  {
   "cell_type": "code",
   "execution_count": null,
   "metadata": {},
   "outputs": [],
   "source": []
  },
  {
   "cell_type": "code",
   "execution_count": null,
   "metadata": {},
   "outputs": [],
   "source": []
  }
 ],
 "metadata": {
  "kernelspec": {
   "display_name": "Python 3",
   "language": "python",
   "name": "python3"
  },
  "language_info": {
   "codemirror_mode": {
    "name": "ipython",
    "version": 3
   },
   "file_extension": ".py",
   "mimetype": "text/x-python",
   "name": "python",
   "nbconvert_exporter": "python",
   "pygments_lexer": "ipython3",
   "version": "3.6.13"
  },
  "toc": {
   "base_numbering": 1,
   "nav_menu": {},
   "number_sections": true,
   "sideBar": true,
   "skip_h1_title": false,
   "title_cell": "Table of Contents",
   "title_sidebar": "Contents",
   "toc_cell": false,
   "toc_position": {
    "height": "calc(100% - 180px)",
    "left": "10px",
    "top": "150px",
    "width": "288px"
   },
   "toc_section_display": true,
   "toc_window_display": true
  },
  "varInspector": {
   "cols": {
    "lenName": 16,
    "lenType": 16,
    "lenVar": 40
   },
   "kernels_config": {
    "python": {
     "delete_cmd_postfix": "",
     "delete_cmd_prefix": "del ",
     "library": "var_list.py",
     "varRefreshCmd": "print(var_dic_list())"
    },
    "r": {
     "delete_cmd_postfix": ") ",
     "delete_cmd_prefix": "rm(",
     "library": "var_list.r",
     "varRefreshCmd": "cat(var_dic_list()) "
    }
   },
   "types_to_exclude": [
    "module",
    "function",
    "builtin_function_or_method",
    "instance",
    "_Feature"
   ],
   "window_display": false
  }
 },
 "nbformat": 4,
 "nbformat_minor": 2
}
